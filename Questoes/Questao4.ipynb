{
 "cells": [
  {
   "cell_type": "code",
   "execution_count": null,
   "id": "e69b912e",
   "metadata": {},
   "outputs": [],
   "source": [
    "# QUESTÃO 4 - Diagrama de Bifurcação do mapa logístico\n",
    "\n",
    "import numpy as np\n",
    "import matplotlib.pyplot as plt\n",
    "\n",
    "def bifurcation_diagram(r_min, r_max, n=10000, iterations=1000, last=100):\n",
    "    r_values = np.linspace(r_min, r_max, n)\n",
    "    x = 1e-5 * np.ones(n)\n",
    "    plt.figure(figsize=(10, 6))\n",
    "    for i in range(iterations):\n",
    "        x = r_values * x * (1 - x)\n",
    "        if i >= (iterations - last):\n",
    "            plt.plot(r_values, x, ',k', alpha=0.25)\n",
    "    plt.title(f\"Diagrama de Bifurcação para r ∈ [{r_min}, {r_max}]\")\n",
    "    plt.xlabel(\"r\")\n",
    "    plt.ylabel(\"x\")\n",
    "    plt.grid(True, alpha=0.3)\n",
    "    plt.tight_layout()\n",
    "    plt.show()\n",
    "\n",
    "bifurcation_diagram(2.5, 4.0)\n",
    "\n",
    "bifurcation_diagram(3.73, 3.75)"
   ]
  }
 ],
 "metadata": {
  "kernelspec": {
   "display_name": "Python 3",
   "language": "python",
   "name": "python3"
  },
  "language_info": {
   "name": "python",
   "version": "3.10.12"
  }
 },
 "nbformat": 4,
 "nbformat_minor": 5
}
