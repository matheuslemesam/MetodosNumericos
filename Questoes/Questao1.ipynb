{
 "cells": [
  {
   "cell_type": "code",
   "execution_count": 1,
   "id": "7c31563d",
   "metadata": {},
   "outputs": [
    {
     "name": "stdout",
     "output_type": "stream",
     "text": [
      "\n",
      "=================================================================\n",
      "                ACOMPANHAMENTO DAS ITERAÇÕES\n",
      "=================================================================\n",
      "Iteração   | x_k                       | f(x_k)                   \n",
      "-----------------------------------------------------------------\n",
      "1          | 0.6666666667              | 0.7407407407             \n",
      "2          | 0.4588314677              | -0.1733411885            \n",
      "3          | 0.5025255250              | 0.0107398756             \n",
      "4          | 0.5000040711              | 0.0000173020             \n",
      "5          | 0.5000000001              | 0.0000000004             \n",
      "6          | 0.5000000000              | 0.0000000000             \n",
      "-----------------------------------------------------------------\n",
      "\n",
      "Resultado final:\n",
      "Raiz encontrada: 0.5000000000\n",
      "f(x) na raiz:    0.0000000000\n"
     ]
    }
   ],
   "source": [
    "# QUESTÃO 1 - Método de Müller\n",
    "\n",
    "import cmath\n",
    "\n",
    "def f(x):\n",
    "    return x**3 - 0.5 * x**2 + 4 * x - 2\n",
    "\n",
    "def metodo_muller(f, x0, x1, x2, tol=1e-8, max_iter=100):\n",
    "    print(\"\\n\" + \"=\"*65)\n",
    "    print(\"                ACOMPANHAMENTO DAS ITERAÇÕES\")\n",
    "    print(\"=\"*65)\n",
    "    print(f\"{'Iteração':<10} | {'x_k':<25} | {'f(x_k)':<25}\")\n",
    "    print(\"-\" * 65)\n",
    "\n",
    "    for i in range(max_iter):\n",
    "        f0, f1, f2 = f(x0), f(x1), f(x2)\n",
    "        h1 = x1 - x0\n",
    "        h2 = x2 - x1\n",
    "        d1 = (f1 - f0) / h1\n",
    "        d2 = (f2 - f1) / h2\n",
    "        a = (d2 - d1) / (h2 + h1)\n",
    "        b = a * h2 + d2\n",
    "        c = f2\n",
    "        raiz_discriminante = cmath.sqrt(b**2 - 4 * a * c)\n",
    "        denominador = b + raiz_discriminante if abs(b + raiz_discriminante) > abs(b - raiz_discriminante) else b - raiz_discriminante\n",
    "        dx = -2 * c / denominador\n",
    "        x3 = x2 + dx\n",
    "        print(f\"{i+1:<10} | {x3.real:<25.10f} | {f(x3.real):<25.10f}\")\n",
    "        if abs(dx) < tol:\n",
    "            print(\"-\" * 65)\n",
    "            return x3\n",
    "        x0, x1, x2 = x1, x2, x3\n",
    "    print(\"-\" * 65)\n",
    "    return None\n",
    "\n",
    "# Executando a questão 1\n",
    "x0 = -1.0\n",
    "x1 = 1.0\n",
    "x2 = 2.0\n",
    "raiz = metodo_muller(f, x0, x1, x2)\n",
    "print(\"\\nResultado final:\")\n",
    "if raiz is not None:\n",
    "    print(f\"Raiz encontrada: {raiz.real:.10f}\")\n",
    "    print(f\"f(x) na raiz:    {f(raiz.real):.10f}\")"
   ]
  }
 ],
 "metadata": {
  "kernelspec": {
   "display_name": "Python 3",
   "language": "python",
   "name": "python3"
  },
  "language_info": {
   "codemirror_mode": {
    "name": "ipython",
    "version": 3
   },
   "file_extension": ".py",
   "mimetype": "text/x-python",
   "name": "python",
   "nbconvert_exporter": "python",
   "pygments_lexer": "ipython3",
   "version": "3.10.12"
  }
 },
 "nbformat": 4,
 "nbformat_minor": 5
}
