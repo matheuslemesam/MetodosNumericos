{
 "cells": [
  {
   "cell_type": "code",
   "execution_count": 1,
   "id": "eee3c168",
   "metadata": {},
   "outputs": [
    {
     "name": "stdout",
     "output_type": "stream",
     "text": [
      "\n",
      "Tensões nos nós:\n",
      "V2 = 149.0040 V\n",
      "V3 = 133.0677 V\n",
      "V4 = 131.4741 V\n",
      "V5 = 127.4900 V\n"
     ]
    }
   ],
   "source": [
    "# QUESTÃO 2 - Eliminação de Gauss (Circuito)\n",
    "\n",
    "def eliminacao_gauss_puro_python(A, B):\n",
    "    import copy\n",
    "    n = len(B)\n",
    "    A = copy.deepcopy(A)\n",
    "    B = copy.deepcopy(B)\n",
    "    for k in range(n - 1):\n",
    "        p_idx = max(range(k, n), key=lambda i: abs(A[i][k]))\n",
    "        A[k], A[p_idx] = A[p_idx], A[k]\n",
    "        B[k], B[p_idx] = B[p_idx], B[k]\n",
    "        for i in range(k + 1, n):\n",
    "            fator = A[i][k] / A[k][k]\n",
    "            for j in range(k, n):\n",
    "                A[i][j] -= fator * A[k][j]\n",
    "            B[i] -= fator * B[k]\n",
    "    x = [0.0] * n\n",
    "    for i in range(n - 1, -1, -1):\n",
    "        soma = sum(A[i][j] * x[j] for j in range(i + 1, n))\n",
    "        x[i] = (B[i] - soma) / A[i][i]\n",
    "    return x\n",
    "\n",
    "A = [\n",
    "    [ 7.0, -1.0,  0.0, -4.0],\n",
    "    [-1.0, 11.0, -10.0,  0.0],\n",
    "    [ 0.0, -5.0,  7.0, -2.0],\n",
    "    [-5.0,  0.0, -5.0, 11.0]\n",
    "]\n",
    "B = [400.0, 0.0, 0.0, 0.0]\n",
    "tensoes = eliminacao_gauss_puro_python(A, B)\n",
    "print(\"\\nTensões nos nós:\")\n",
    "for i, Vi in enumerate(tensoes, start=2):\n",
    "    print(f\"V{i} = {Vi:.4f} V\")"
   ]
  }
 ],
 "metadata": {
  "kernelspec": {
   "display_name": "Python 3",
   "language": "python",
   "name": "python3"
  },
  "language_info": {
   "codemirror_mode": {
    "name": "ipython",
    "version": 3
   },
   "file_extension": ".py",
   "mimetype": "text/x-python",
   "name": "python",
   "nbconvert_exporter": "python",
   "pygments_lexer": "ipython3",
   "version": "3.10.12"
  }
 },
 "nbformat": 4,
 "nbformat_minor": 5
}
